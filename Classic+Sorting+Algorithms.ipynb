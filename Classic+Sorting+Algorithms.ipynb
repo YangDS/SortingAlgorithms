{
 "cells": [
  {
   "cell_type": "markdown",
   "metadata": {},
   "source": [
    "## A Class with Popular Sorting Algorithms"
   ]
  },
  {
   "cell_type": "markdown",
   "metadata": {},
   "source": [
    "For reference, I create a class called SortingAlgorithms, which consists of seven popular sorting algorithms\n",
    "\n",
    "1. 冒泡排序(Bubble Sort)\n",
    "<img src=\"https://camo.githubusercontent.com/2cf2f7f3bda7062ae57ca248582604fdc893f50c/687474703a2f2f75706c6f61642e77696b696d656469612e6f72672f77696b6970656469612f636f6d6d6f6e732f352f35342f536f7274696e675f627562626c65736f72745f616e696d2e676966\">\n",
    "2. 选择排序(Selection Sort)\n",
    "<img src=\"http://piratelearner.com/static/media/images/admin/2015/10/13/selection.gif\">\n",
    "3. 插入排序(Insertion Sort)\n",
    "<img src=\"http://wuchong.me/img/Insertion-sort-example-300px.gif\">\n",
    "4. 希尔排序(Shell Sort)\n",
    "<img src=\"https://i.makeagif.com/media/8-25-2016/mKGEkd.gif\">\n",
    "5. 归并排序(Merge Sort)\n",
    "<img, src=\"http://wuchong.me/img/Merge-sort-example-300px.gif\">\n",
    "6. 快速排序(Quick Sort)\n",
    "<img, src=\"http://wuchong.me/img/Quicksort-example.gif\">\n",
    "7. 堆排序(Heap Sort)\n",
    "<img, src=\"http://wuchong.me/img/Heapsort-example.gif\">"
   ]
  },
  {
   "cell_type": "code",
   "execution_count": 125,
   "metadata": {
    "collapsed": false
   },
   "outputs": [],
   "source": [
    "class SortingAlgorithms:\n",
    "\n",
    "    def bubble_sort(self, ary):\n",
    "        #Bubble Sort\n",
    "        n = len(ary)                  \n",
    "        for i in range(n):\n",
    "            for j in range(1,n-i):\n",
    "                if  ary[j-1] > ary[j] :       \n",
    "                    ary[j-1],ary[j] = ary[j],ary[j-1]      \n",
    "        return ary\n",
    "    \n",
    "    def select_sort(self, ary):\n",
    "        # Selection Sort\n",
    "        n = len(ary)\n",
    "        for i in range(0,n):\n",
    "            min = i                             \n",
    "            for j in range(i+1,n):\n",
    "                if ary[j] < ary[min] :\n",
    "                    min = j                     \n",
    "            ary[min],ary[i] = ary[i],ary[min]   \n",
    "        return ary\n",
    "    \n",
    "    def insert_sort(self, ary):\n",
    "        # Insert Sort\n",
    "        n = len(ary)\n",
    "        for i in range(1,n):\n",
    "            if ary[i] < ary[i-1]:\n",
    "                temp = ary[i]\n",
    "                index = i       \n",
    "                for j in range(i-1,-1,-1):  \n",
    "                    if ary[j] > temp :\n",
    "                        ary[j+1] = ary[j]\n",
    "                        index = j   \n",
    "                    else :\n",
    "                        break\n",
    "                ary[index] = temp\n",
    "        return ary\n",
    "\n",
    "    def shell_sort(self, ary):\n",
    "        # Shell Sort\n",
    "        n = len(ary)\n",
    "        gap = round(n/2)       \n",
    "        while gap > 0 :\n",
    "            for i in range(gap,n):       \n",
    "                temp = ary[i]\n",
    "                j = i\n",
    "                while ( j >= gap and ary[j-gap] > temp ):    # Insert Sort\n",
    "                    ary[j] = ary[j-gap]\n",
    "                    j = j - gap\n",
    "                ary[j] = temp\n",
    "            gap = round(gap/2)                     # Reset Gap\n",
    "        return ary\n",
    "\n",
    "    def merge_sort(self, ary):\n",
    "        # Merge Sort \n",
    "        if len(ary) <= 1 : return ary\n",
    "        num = int(len(ary)/2)       \n",
    "        left = self.merge_sort(ary[:num])\n",
    "        right = self.merge_sort(ary[num:])\n",
    "        return self.merge(left,right)    \n",
    "    def merge(self, left,right):\n",
    "        # Merge two sorted arrays left[] and right[] into on sorted array\n",
    "        l,r = 0,0           \n",
    "        result = []\n",
    "        while l<len(left) and r<len(right) :\n",
    "            if left[l] < right[r]:\n",
    "                result.append(left[l])\n",
    "                l += 1\n",
    "            else:\n",
    "                result.append(right[r])\n",
    "                r += 1\n",
    "        result += left[l:]\n",
    "        result += right[r:]\n",
    "        return result\n",
    "    \n",
    "    def quick_sort(self, ary):\n",
    "        # Quick Sort\n",
    "        return self.qsort(ary,0,len(ary)-1)\n",
    "    def qsort(self, ary,left,right):\n",
    "        if left >= right : return ary\n",
    "        key = ary[left]     \n",
    "        lp = left           \n",
    "        rp = right          \n",
    "        while lp < rp :\n",
    "            while ary[rp] >= key and lp < rp :\n",
    "                rp -= 1\n",
    "            while ary[lp] <= key and lp < rp :\n",
    "                lp += 1\n",
    "            ary[lp],ary[rp] = ary[rp],ary[lp]\n",
    "        ary[left],ary[lp] = ary[lp],ary[left]\n",
    "        self.qsort(ary,left,lp-1)\n",
    "        self.qsort(ary,rp+1,right)\n",
    "        return ary\n",
    "    \n",
    "    def heap_sort(self, ary) :\n",
    "        n = len(ary)\n",
    "        first = int(n/2-1)       \n",
    "        for start in range(first,-1,-1) : \n",
    "            self.max_heapify(ary,start,n-1)\n",
    "        for end in range(n-1,0,-1):        \n",
    "            ary[end],ary[0] = ary[0],ary[end]\n",
    "            self.max_heapify(ary,0,end-1)\n",
    "        return ary\n",
    "    def max_heapify(self, ary,start,end):\n",
    "        root = start\n",
    "        while True :\n",
    "            child = root*2 +1              \n",
    "            if child > end : break\n",
    "            if child+1 <= end and ary[child] < ary[child+1] :\n",
    "                child = child+1            \n",
    "            if ary[root] < ary[child] :    \n",
    "                ary[root],ary[child] = ary[child],ary[root]\n",
    "                root = child\n",
    "            else :\n",
    "                break"
   ]
  },
  {
   "cell_type": "code",
   "execution_count": 128,
   "metadata": {
    "collapsed": true
   },
   "outputs": [],
   "source": [
    "A = [2, 3, 5, 4, 1, 66, 7, 7, 3]\n",
    "sort = SortingAlgorithms()"
   ]
  },
  {
   "cell_type": "code",
   "execution_count": 129,
   "metadata": {
    "collapsed": false
   },
   "outputs": [
    {
     "data": {
      "text/plain": [
       "[1, 2, 3, 3, 4, 5, 7, 7, 66]"
      ]
     },
     "execution_count": 129,
     "metadata": {},
     "output_type": "execute_result"
    }
   ],
   "source": [
    "sort.select_sort(A)"
   ]
  },
  {
   "cell_type": "code",
   "execution_count": null,
   "metadata": {
    "collapsed": true
   },
   "outputs": [],
   "source": []
  }
 ],
 "metadata": {
  "kernelspec": {
   "display_name": "Python 3",
   "language": "python",
   "name": "python3"
  },
  "language_info": {
   "codemirror_mode": {
    "name": "ipython",
    "version": 3
   },
   "file_extension": ".py",
   "mimetype": "text/x-python",
   "name": "python",
   "nbconvert_exporter": "python",
   "pygments_lexer": "ipython3",
   "version": "3.4.3"
  }
 },
 "nbformat": 4,
 "nbformat_minor": 2
}
